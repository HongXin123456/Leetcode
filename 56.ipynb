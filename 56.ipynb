{
 "cells": [
  {
   "cell_type": "code",
   "execution_count": null,
   "source": [
    "class Solution:\r\n",
    "    def merge(self, intervals: List[List[int]]) -> List[List[int]]:\r\n",
    "        res = []\r\n",
    "        intervals_sorted = sorted(intervals, key = lambda x:x[0])\r\n",
    "        for i in intervals_sorted:\r\n",
    "            if res and i[0] <= res[-1][1]:  #check to see if res is empty\r\n",
    "                res[-1][1] = max(res[-1][1], i[1])\r\n",
    "            else:\r\n",
    "                res.append(i)\r\n",
    "        return res"
   ],
   "outputs": [],
   "metadata": {}
  }
 ],
 "metadata": {
  "orig_nbformat": 4,
  "language_info": {
   "name": "python",
   "version": "3.8.8",
   "mimetype": "text/x-python",
   "codemirror_mode": {
    "name": "ipython",
    "version": 3
   },
   "pygments_lexer": "ipython3",
   "nbconvert_exporter": "python",
   "file_extension": ".py"
  },
  "kernelspec": {
   "name": "python3",
   "display_name": "Python 3.8.8 64-bit"
  },
  "interpreter": {
   "hash": "788c7a583b49e0f108948e9844ef083ea97a54690da4d8e91da56fd70fa16a57"
  }
 },
 "nbformat": 4,
 "nbformat_minor": 2
}